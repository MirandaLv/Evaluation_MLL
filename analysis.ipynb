{
 "cells": [
  {
   "cell_type": "code",
   "execution_count": 30,
   "id": "26dd4f90",
   "metadata": {},
   "outputs": [],
   "source": [
    "import pandas as pd\n",
    "import os\n",
    "from matplotlib import pyplot as plt\n",
    "\n",
    "from sklearn.preprocessing import LabelEncoder\n",
    "from sklearn.preprocessing import OneHotEncoder\n",
    "\n",
    "# Load libraries\n",
    "from sklearn.ensemble import RandomForestClassifier\n",
    "\n",
    "from sklearn.model_selection import train_test_split, RandomizedSearchCV\n",
    "from sklearn import metrics\n",
    "from scipy.stats import randint"
   ]
  },
  {
   "cell_type": "code",
   "execution_count": 29,
   "id": "4e89aa93",
   "metadata": {},
   "outputs": [],
   "source": [
    "# import dataset\n",
    "data_path = './Data Science Prospective Candidate Model Data_2023-03.xlsx'\n",
    "\n",
    "df = pd.read_excel(data_path)"
   ]
  },
  {
   "cell_type": "code",
   "execution_count": 3,
   "id": "3a25af97",
   "metadata": {},
   "outputs": [
    {
     "data": {
      "text/html": [
       "<div>\n",
       "<style scoped>\n",
       "    .dataframe tbody tr th:only-of-type {\n",
       "        vertical-align: middle;\n",
       "    }\n",
       "\n",
       "    .dataframe tbody tr th {\n",
       "        vertical-align: top;\n",
       "    }\n",
       "\n",
       "    .dataframe thead th {\n",
       "        text-align: right;\n",
       "    }\n",
       "</style>\n",
       "<table border=\"1\" class=\"dataframe\">\n",
       "  <thead>\n",
       "    <tr style=\"text-align: right;\">\n",
       "      <th></th>\n",
       "      <th>Salesforce Quote ID</th>\n",
       "      <th>Salesforce Account ID</th>\n",
       "      <th>Industry Group</th>\n",
       "      <th>IsPrimary</th>\n",
       "      <th>Quote ID</th>\n",
       "      <th>Account ID</th>\n",
       "      <th>Industry Group.1</th>\n",
       "      <th>IsPrimary.1</th>\n",
       "      <th>Opportunity Status</th>\n",
       "      <th>AccountingMonth</th>\n",
       "      <th>...</th>\n",
       "      <th>TermInMonths</th>\n",
       "      <th>Number Of Seats</th>\n",
       "      <th>Customer Health Score</th>\n",
       "      <th>Additional Discount Off List</th>\n",
       "      <th>Company Discount %</th>\n",
       "      <th>Partner Discount Off List</th>\n",
       "      <th>Quote Line Discount Off List</th>\n",
       "      <th>List Total (USD)</th>\n",
       "      <th>Net Amount (USD)</th>\n",
       "      <th>Number of Items</th>\n",
       "    </tr>\n",
       "  </thead>\n",
       "  <tbody>\n",
       "    <tr>\n",
       "      <th>0</th>\n",
       "      <td>a0s3l00000AaabbAAB</td>\n",
       "      <td>0011N00001kQIiQQAW</td>\n",
       "      <td>Finance</td>\n",
       "      <td>True</td>\n",
       "      <td>a0s3l00000AaabbAAB</td>\n",
       "      <td>0011N00001kQIiQQAW</td>\n",
       "      <td>Finance</td>\n",
       "      <td>True</td>\n",
       "      <td>Closed Lost</td>\n",
       "      <td>2020-10-01</td>\n",
       "      <td>...</td>\n",
       "      <td>12.0</td>\n",
       "      <td>350.0</td>\n",
       "      <td>0</td>\n",
       "      <td>0.000</td>\n",
       "      <td>0.000</td>\n",
       "      <td>0.000</td>\n",
       "      <td>0.000</td>\n",
       "      <td>23688</td>\n",
       "      <td>23688</td>\n",
       "      <td>2</td>\n",
       "    </tr>\n",
       "    <tr>\n",
       "      <th>1</th>\n",
       "      <td>a0s3l00000AaaT7AAJ</td>\n",
       "      <td>0011N00001cgmmhQAA</td>\n",
       "      <td>Real Estate</td>\n",
       "      <td>True</td>\n",
       "      <td>a0s3l00000AaaT7AAJ</td>\n",
       "      <td>0011N00001cgmmhQAA</td>\n",
       "      <td>Real Estate</td>\n",
       "      <td>True</td>\n",
       "      <td>Closed Lost</td>\n",
       "      <td>2022-12-01</td>\n",
       "      <td>...</td>\n",
       "      <td>12.0</td>\n",
       "      <td>6000.0</td>\n",
       "      <td>0</td>\n",
       "      <td>0.008</td>\n",
       "      <td>0.731</td>\n",
       "      <td>0.054</td>\n",
       "      <td>0.792</td>\n",
       "      <td>529505</td>\n",
       "      <td>113973</td>\n",
       "      <td>8</td>\n",
       "    </tr>\n",
       "    <tr>\n",
       "      <th>2</th>\n",
       "      <td>a0s3l00000AaaXPAAZ</td>\n",
       "      <td>0013l000027RPAMAA4</td>\n",
       "      <td>Other</td>\n",
       "      <td>True</td>\n",
       "      <td>a0s3l00000AaaXPAAZ</td>\n",
       "      <td>0013l000027RPAMAA4</td>\n",
       "      <td>Other</td>\n",
       "      <td>True</td>\n",
       "      <td>Closed Lost</td>\n",
       "      <td>2021-11-01</td>\n",
       "      <td>...</td>\n",
       "      <td>12.0</td>\n",
       "      <td>75.0</td>\n",
       "      <td>0</td>\n",
       "      <td>0.000</td>\n",
       "      <td>0.000</td>\n",
       "      <td>0.000</td>\n",
       "      <td>0.000</td>\n",
       "      <td>4050</td>\n",
       "      <td>4050</td>\n",
       "      <td>2</td>\n",
       "    </tr>\n",
       "    <tr>\n",
       "      <th>3</th>\n",
       "      <td>a0s3l00000AaaZLAAZ</td>\n",
       "      <td>0013l000027Rqk5AAC</td>\n",
       "      <td>Healthcare, Pharma, &amp; Biotech</td>\n",
       "      <td>True</td>\n",
       "      <td>a0s3l00000AaaZLAAZ</td>\n",
       "      <td>0013l000027Rqk5AAC</td>\n",
       "      <td>Healthcare, Pharma, &amp; Biotech</td>\n",
       "      <td>True</td>\n",
       "      <td>Closed Lost</td>\n",
       "      <td>2021-03-01</td>\n",
       "      <td>...</td>\n",
       "      <td>12.0</td>\n",
       "      <td>700.0</td>\n",
       "      <td>0</td>\n",
       "      <td>0.000</td>\n",
       "      <td>0.000</td>\n",
       "      <td>0.000</td>\n",
       "      <td>0.000</td>\n",
       "      <td>19281</td>\n",
       "      <td>19281</td>\n",
       "      <td>2</td>\n",
       "    </tr>\n",
       "    <tr>\n",
       "      <th>4</th>\n",
       "      <td>a0s3l00000AabQPAAZ</td>\n",
       "      <td>0013l000027SBnsAAG</td>\n",
       "      <td>Healthcare, Pharma, &amp; Biotech</td>\n",
       "      <td>True</td>\n",
       "      <td>a0s3l00000AabQPAAZ</td>\n",
       "      <td>0013l000027SBnsAAG</td>\n",
       "      <td>Healthcare, Pharma, &amp; Biotech</td>\n",
       "      <td>True</td>\n",
       "      <td>Closed Lost</td>\n",
       "      <td>2021-03-01</td>\n",
       "      <td>...</td>\n",
       "      <td>12.0</td>\n",
       "      <td>3500.0</td>\n",
       "      <td>0</td>\n",
       "      <td>0.000</td>\n",
       "      <td>0.100</td>\n",
       "      <td>0.225</td>\n",
       "      <td>0.325</td>\n",
       "      <td>62518</td>\n",
       "      <td>42200</td>\n",
       "      <td>4</td>\n",
       "    </tr>\n",
       "  </tbody>\n",
       "</table>\n",
       "<p>5 rows × 27 columns</p>\n",
       "</div>"
      ],
      "text/plain": [
       "  Salesforce Quote ID Salesforce Account ID                 Industry Group  \\\n",
       "0  a0s3l00000AaabbAAB    0011N00001kQIiQQAW                        Finance   \n",
       "1  a0s3l00000AaaT7AAJ    0011N00001cgmmhQAA                    Real Estate   \n",
       "2  a0s3l00000AaaXPAAZ    0013l000027RPAMAA4                          Other   \n",
       "3  a0s3l00000AaaZLAAZ    0013l000027Rqk5AAC  Healthcare, Pharma, & Biotech   \n",
       "4  a0s3l00000AabQPAAZ    0013l000027SBnsAAG  Healthcare, Pharma, & Biotech   \n",
       "\n",
       "   IsPrimary            Quote ID          Account ID  \\\n",
       "0       True  a0s3l00000AaabbAAB  0011N00001kQIiQQAW   \n",
       "1       True  a0s3l00000AaaT7AAJ  0011N00001cgmmhQAA   \n",
       "2       True  a0s3l00000AaaXPAAZ  0013l000027RPAMAA4   \n",
       "3       True  a0s3l00000AaaZLAAZ  0013l000027Rqk5AAC   \n",
       "4       True  a0s3l00000AabQPAAZ  0013l000027SBnsAAG   \n",
       "\n",
       "                Industry Group.1  IsPrimary.1 Opportunity Status  \\\n",
       "0                        Finance         True        Closed Lost   \n",
       "1                    Real Estate         True        Closed Lost   \n",
       "2                          Other         True        Closed Lost   \n",
       "3  Healthcare, Pharma, & Biotech         True        Closed Lost   \n",
       "4  Healthcare, Pharma, & Biotech         True        Closed Lost   \n",
       "\n",
       "  AccountingMonth  ... TermInMonths Number Of Seats Customer Health Score  \\\n",
       "0      2020-10-01  ...         12.0           350.0                     0   \n",
       "1      2022-12-01  ...         12.0          6000.0                     0   \n",
       "2      2021-11-01  ...         12.0            75.0                     0   \n",
       "3      2021-03-01  ...         12.0           700.0                     0   \n",
       "4      2021-03-01  ...         12.0          3500.0                     0   \n",
       "\n",
       "  Additional Discount Off List Company Discount % Partner Discount Off List  \\\n",
       "0                        0.000              0.000                     0.000   \n",
       "1                        0.008              0.731                     0.054   \n",
       "2                        0.000              0.000                     0.000   \n",
       "3                        0.000              0.000                     0.000   \n",
       "4                        0.000              0.100                     0.225   \n",
       "\n",
       "  Quote Line Discount Off List  List Total (USD)  Net Amount (USD)  \\\n",
       "0                        0.000             23688             23688   \n",
       "1                        0.792            529505            113973   \n",
       "2                        0.000              4050              4050   \n",
       "3                        0.000             19281             19281   \n",
       "4                        0.325             62518             42200   \n",
       "\n",
       "   Number of Items  \n",
       "0                2  \n",
       "1                8  \n",
       "2                2  \n",
       "3                2  \n",
       "4                4  \n",
       "\n",
       "[5 rows x 27 columns]"
      ]
     },
     "execution_count": 3,
     "metadata": {},
     "output_type": "execute_result"
    }
   ],
   "source": [
    "df.head(5)"
   ]
  },
  {
   "cell_type": "code",
   "execution_count": 4,
   "id": "4bc191a5",
   "metadata": {},
   "outputs": [
    {
     "data": {
      "text/plain": [
       "Index(['Salesforce Quote ID', 'Salesforce Account ID', 'Industry Group',\n",
       "       'IsPrimary', 'Quote ID', 'Account ID', 'Industry Group.1',\n",
       "       'IsPrimary.1', 'Opportunity Status', 'AccountingMonth', 'Segmentation',\n",
       "       'Business Type', 'Discount Deal Type', 'Quote Status',\n",
       "       'PartnerProcurementOption (DimOpportunity)', 'Partner ID',\n",
       "       'Reporting Region', 'TermInMonths', 'Number Of Seats',\n",
       "       'Customer Health Score', 'Additional Discount Off List',\n",
       "       'Company Discount %', 'Partner Discount Off List',\n",
       "       'Quote Line Discount Off List', 'List Total (USD)', 'Net Amount (USD)',\n",
       "       'Number of Items'],\n",
       "      dtype='object')"
      ]
     },
     "execution_count": 4,
     "metadata": {},
     "output_type": "execute_result"
    }
   ],
   "source": [
    "df.columns # check on all columns in the given dataset"
   ]
  },
  {
   "cell_type": "code",
   "execution_count": 5,
   "id": "60fdb63a",
   "metadata": {},
   "outputs": [
    {
     "data": {
      "text/plain": [
       "(16508, 27)"
      ]
     },
     "execution_count": 5,
     "metadata": {},
     "output_type": "execute_result"
    }
   ],
   "source": [
    "df.shape # check on data dimensions"
   ]
  },
  {
   "cell_type": "code",
   "execution_count": 31,
   "id": "9be2906f",
   "metadata": {},
   "outputs": [
    {
     "data": {
      "text/html": [
       "<div>\n",
       "<style scoped>\n",
       "    .dataframe tbody tr th:only-of-type {\n",
       "        vertical-align: middle;\n",
       "    }\n",
       "\n",
       "    .dataframe tbody tr th {\n",
       "        vertical-align: top;\n",
       "    }\n",
       "\n",
       "    .dataframe thead th {\n",
       "        text-align: right;\n",
       "    }\n",
       "</style>\n",
       "<table border=\"1\" class=\"dataframe\">\n",
       "  <thead>\n",
       "    <tr style=\"text-align: right;\">\n",
       "      <th></th>\n",
       "      <th>TermInMonths</th>\n",
       "      <th>Number Of Seats</th>\n",
       "      <th>Customer Health Score</th>\n",
       "      <th>Additional Discount Off List</th>\n",
       "      <th>Company Discount %</th>\n",
       "      <th>Partner Discount Off List</th>\n",
       "      <th>Quote Line Discount Off List</th>\n",
       "      <th>List Total (USD)</th>\n",
       "      <th>Net Amount (USD)</th>\n",
       "      <th>Number of Items</th>\n",
       "    </tr>\n",
       "  </thead>\n",
       "  <tbody>\n",
       "    <tr>\n",
       "      <th>count</th>\n",
       "      <td>16326.000000</td>\n",
       "      <td>16503.000000</td>\n",
       "      <td>16508.000000</td>\n",
       "      <td>16346.000000</td>\n",
       "      <td>16346.000000</td>\n",
       "      <td>16346.000000</td>\n",
       "      <td>16346.000000</td>\n",
       "      <td>1.650800e+04</td>\n",
       "      <td>1.650800e+04</td>\n",
       "      <td>16508.000000</td>\n",
       "    </tr>\n",
       "    <tr>\n",
       "      <th>mean</th>\n",
       "      <td>13.488796</td>\n",
       "      <td>2534.955220</td>\n",
       "      <td>24.458687</td>\n",
       "      <td>0.018329</td>\n",
       "      <td>0.313325</td>\n",
       "      <td>0.146664</td>\n",
       "      <td>0.478314</td>\n",
       "      <td>1.553165e+05</td>\n",
       "      <td>4.482306e+04</td>\n",
       "      <td>4.716562</td>\n",
       "    </tr>\n",
       "    <tr>\n",
       "      <th>std</th>\n",
       "      <td>6.372941</td>\n",
       "      <td>15963.254779</td>\n",
       "      <td>25.290240</td>\n",
       "      <td>0.332210</td>\n",
       "      <td>0.278990</td>\n",
       "      <td>0.110192</td>\n",
       "      <td>0.411796</td>\n",
       "      <td>1.109281e+06</td>\n",
       "      <td>1.868831e+05</td>\n",
       "      <td>1.707033</td>\n",
       "    </tr>\n",
       "    <tr>\n",
       "      <th>min</th>\n",
       "      <td>1.000000</td>\n",
       "      <td>0.000000</td>\n",
       "      <td>0.000000</td>\n",
       "      <td>-16.106000</td>\n",
       "      <td>-10.419000</td>\n",
       "      <td>-0.153000</td>\n",
       "      <td>-16.573000</td>\n",
       "      <td>0.000000e+00</td>\n",
       "      <td>-3.720900e+04</td>\n",
       "      <td>1.000000</td>\n",
       "    </tr>\n",
       "    <tr>\n",
       "      <th>25%</th>\n",
       "      <td>12.000000</td>\n",
       "      <td>175.000000</td>\n",
       "      <td>0.000000</td>\n",
       "      <td>0.000000</td>\n",
       "      <td>0.089000</td>\n",
       "      <td>0.062000</td>\n",
       "      <td>0.338000</td>\n",
       "      <td>1.387225e+04</td>\n",
       "      <td>7.628500e+03</td>\n",
       "      <td>4.000000</td>\n",
       "    </tr>\n",
       "    <tr>\n",
       "      <th>50%</th>\n",
       "      <td>12.000000</td>\n",
       "      <td>380.000000</td>\n",
       "      <td>0.000000</td>\n",
       "      <td>0.000000</td>\n",
       "      <td>0.280000</td>\n",
       "      <td>0.140000</td>\n",
       "      <td>0.484000</td>\n",
       "      <td>2.954500e+04</td>\n",
       "      <td>1.497200e+04</td>\n",
       "      <td>4.000000</td>\n",
       "    </tr>\n",
       "    <tr>\n",
       "      <th>75%</th>\n",
       "      <td>12.000000</td>\n",
       "      <td>1183.000000</td>\n",
       "      <td>51.000000</td>\n",
       "      <td>0.048000</td>\n",
       "      <td>0.498000</td>\n",
       "      <td>0.200000</td>\n",
       "      <td>0.654000</td>\n",
       "      <td>7.359325e+04</td>\n",
       "      <td>3.335950e+04</td>\n",
       "      <td>5.000000</td>\n",
       "    </tr>\n",
       "    <tr>\n",
       "      <th>max</th>\n",
       "      <td>63.000000</td>\n",
       "      <td>1000000.000000</td>\n",
       "      <td>90.000000</td>\n",
       "      <td>1.000000</td>\n",
       "      <td>1.382000</td>\n",
       "      <td>0.557000</td>\n",
       "      <td>1.000000</td>\n",
       "      <td>7.168680e+07</td>\n",
       "      <td>1.130935e+07</td>\n",
       "      <td>17.000000</td>\n",
       "    </tr>\n",
       "  </tbody>\n",
       "</table>\n",
       "</div>"
      ],
      "text/plain": [
       "       TermInMonths  Number Of Seats  Customer Health Score  \\\n",
       "count  16326.000000     16503.000000           16508.000000   \n",
       "mean      13.488796      2534.955220              24.458687   \n",
       "std        6.372941     15963.254779              25.290240   \n",
       "min        1.000000         0.000000               0.000000   \n",
       "25%       12.000000       175.000000               0.000000   \n",
       "50%       12.000000       380.000000               0.000000   \n",
       "75%       12.000000      1183.000000              51.000000   \n",
       "max       63.000000   1000000.000000              90.000000   \n",
       "\n",
       "       Additional Discount Off List  Company Discount %  \\\n",
       "count                  16346.000000        16346.000000   \n",
       "mean                       0.018329            0.313325   \n",
       "std                        0.332210            0.278990   \n",
       "min                      -16.106000          -10.419000   \n",
       "25%                        0.000000            0.089000   \n",
       "50%                        0.000000            0.280000   \n",
       "75%                        0.048000            0.498000   \n",
       "max                        1.000000            1.382000   \n",
       "\n",
       "       Partner Discount Off List  Quote Line Discount Off List  \\\n",
       "count               16346.000000                  16346.000000   \n",
       "mean                    0.146664                      0.478314   \n",
       "std                     0.110192                      0.411796   \n",
       "min                    -0.153000                    -16.573000   \n",
       "25%                     0.062000                      0.338000   \n",
       "50%                     0.140000                      0.484000   \n",
       "75%                     0.200000                      0.654000   \n",
       "max                     0.557000                      1.000000   \n",
       "\n",
       "       List Total (USD)  Net Amount (USD)  Number of Items  \n",
       "count      1.650800e+04      1.650800e+04     16508.000000  \n",
       "mean       1.553165e+05      4.482306e+04         4.716562  \n",
       "std        1.109281e+06      1.868831e+05         1.707033  \n",
       "min        0.000000e+00     -3.720900e+04         1.000000  \n",
       "25%        1.387225e+04      7.628500e+03         4.000000  \n",
       "50%        2.954500e+04      1.497200e+04         4.000000  \n",
       "75%        7.359325e+04      3.335950e+04         5.000000  \n",
       "max        7.168680e+07      1.130935e+07        17.000000  "
      ]
     },
     "execution_count": 31,
     "metadata": {},
     "output_type": "execute_result"
    }
   ],
   "source": [
    "df.describe()"
   ]
  },
  {
   "cell_type": "code",
   "execution_count": 6,
   "id": "7063fcbe",
   "metadata": {},
   "outputs": [
    {
     "data": {
      "image/png": "[encoded data removed]",
      "text/plain": [
       "<Figure size 640x480 with 12 Axes>"
      ]
     },
     "metadata": {},
     "output_type": "display_data"
    }
   ],
   "source": [
    "# Check on the data distribution for continuous dataset\n",
    "\n",
    "df.hist(bins=15, color='red', edgecolor='black', linewidth=1.0,\n",
    "           xlabelsize=8, ylabelsize=8, grid=False)\n",
    "plt.tight_layout(rect=(0, 0, 1.2, 1.2)) "
   ]
  },
  {
   "cell_type": "markdown",
   "id": "39d427d2",
   "metadata": {},
   "source": [
    "## Creating a list of variables for later model build up, some of variables in the dataset are removed"
   ]
  },
  {
   "cell_type": "code",
   "execution_count": 7,
   "id": "4b4b40cc",
   "metadata": {},
   "outputs": [],
   "source": [
    "# Select variables that can be used to explain the model performance\n",
    "\n",
    "predictive_variables = ['Industry Group', 'IsPrimary', 'Segmentation', 'Business Type', \n",
    "                     'Discount Deal Type', 'PartnerProcurementOption (DimOpportunity)', 'Reporting Region',\n",
    "                     'TermInMonths', 'Partner Discount Off List', 'Quote Line Discount Off List','List Total (USD)',\n",
    "                     'Net Amount (USD)', 'Number of Items']\n",
    "\n",
    "target = 'Quote Status'"
   ]
  },
  {
   "cell_type": "markdown",
   "id": "880863b0",
   "metadata": {},
   "source": [
    "### Data clean up"
   ]
  },
  {
   "cell_type": "code",
   "execution_count": null,
   "id": "2140578b",
   "metadata": {},
   "outputs": [],
   "source": [
    "# remove data missing info\n",
    "sub_df = df[predictive_variables + [target]]\n",
    "sub_df = sub_df.dropna(subset=['TermInMonths', 'Partner Discount Off List'], inplace=False)\n",
    "sub_df = sub_df.reset_index(drop=True)"
   ]
  },
  {
   "cell_type": "markdown",
   "id": "57cb9f5a",
   "metadata": {},
   "source": [
    "### Convertion of categorical dataset using one hot encoder"
   ]
  },
  {
   "cell_type": "code",
   "execution_count": 8,
   "id": "45d046a7",
   "metadata": {},
   "outputs": [],
   "source": [
    "# get all the categorical columns in X\n",
    "categorical_columns = sub_df[predictive_variables].select_dtypes(include=['object']).columns.tolist()\n",
    "\n",
    "# Initialize OneHotEncoder\n",
    "encoder = OneHotEncoder(handle_unknown='ignore')\n",
    "\n",
    "# Apply one-hot encoding to the categorical columns\n",
    "one_hot_encoded = encoder.fit_transform(sub_df[categorical_columns])\n",
    "\n",
    "# # Create a DataFrame with the one-hot encoded columns\n",
    "# # use get_feature_names_out() to get the column names for the encoded data\n",
    "new_df = pd.DataFrame.sparse.from_spmatrix(one_hot_encoded, columns=list(encoder.get_feature_names_out(categorical_columns)))"
   ]
  },
  {
   "cell_type": "code",
   "execution_count": 9,
   "id": "a1c8883a",
   "metadata": {},
   "outputs": [],
   "source": [
    "# Concatenate the one-hot encoded dataframe with the original dataframe\n",
    "sub_df_encoded = pd.concat([sub_df, new_df], axis=1)\n",
    "\n",
    "# Drop the original categorical columns\n",
    "sub_df_encoded = sub_df_encoded.drop(categorical_columns, axis=1)"
   ]
  },
  {
   "cell_type": "markdown",
   "id": "332f407a",
   "metadata": {},
   "source": [
    "### Encode the target data"
   ]
  },
  {
   "cell_type": "code",
   "execution_count": 10,
   "id": "8c5d0f0e",
   "metadata": {},
   "outputs": [
    {
     "name": "stderr",
     "output_type": "stream",
     "text": [
      "/Users/mirandalv/opt/anaconda3/envs/py37/lib/python3.7/site-packages/sklearn/preprocessing/_label.py:115: DataConversionWarning: A column-vector y was passed when a 1d array was expected. Please change the shape of y to (n_samples, ), for example using ravel().\n",
      "  y = column_or_1d(y, warn=True)\n"
     ]
    }
   ],
   "source": [
    "# encode prediction data\n",
    "le = LabelEncoder()\n",
    "le_class = le.fit_transform(sub_df[[target]])"
   ]
  },
  {
   "cell_type": "markdown",
   "id": "fabeb268",
   "metadata": {},
   "source": [
    "### Build data for model training"
   ]
  },
  {
   "cell_type": "code",
   "execution_count": 11,
   "id": "5120c54b",
   "metadata": {},
   "outputs": [],
   "source": [
    "# create variables for model training\n",
    "x_df = sub_df_encoded.drop('Quote Status', axis=1)\n",
    "\n",
    "y = le_class\n",
    "X = x_df.values"
   ]
  },
  {
   "cell_type": "code",
   "execution_count": 16,
   "id": "20be082a",
   "metadata": {},
   "outputs": [],
   "source": [
    "# Split dataset into training set and test set\n",
    "X_train, X_test, y_train, y_test = train_test_split(X, y, test_size=0.3) # 70% training and 30% test"
   ]
  },
  {
   "cell_type": "markdown",
   "id": "66c36549",
   "metadata": {},
   "source": [
    "# Model training"
   ]
  },
  {
   "cell_type": "code",
   "execution_count": null,
   "id": "05d6908e",
   "metadata": {},
   "outputs": [],
   "source": [
    "# create a random forest with the default setting\n",
    "rf = RandomForestClassifier()\n",
    "rf.fit(X_train, y_train)\n",
    "\n",
    "# make prediction\n",
    "y_pred = rf.predict(X_test)"
   ]
  },
  {
   "cell_type": "code",
   "execution_count": 20,
   "id": "b9d300f2",
   "metadata": {},
   "outputs": [
    {
     "name": "stdout",
     "output_type": "stream",
     "text": [
      "Accuracy: 0.6076288659793815\n"
     ]
    }
   ],
   "source": [
    "# Model Accuracy\n",
    "print(\"Accuracy:\",metrics.accuracy_score(y_test, y_pred))"
   ]
  },
  {
   "cell_type": "markdown",
   "id": "96908845",
   "metadata": {},
   "source": [
    "## Use random search to find the best hyperparameters"
   ]
  },
  {
   "cell_type": "code",
   "execution_count": 25,
   "id": "0d7a7e9e",
   "metadata": {},
   "outputs": [
    {
     "name": "stderr",
     "output_type": "stream",
     "text": [
      "/Users/mirandalv/opt/anaconda3/envs/py37/lib/python3.7/site-packages/sklearn/model_selection/_split.py:680: UserWarning: The least populated class in y has only 4 members, which is less than n_splits=5.\n",
      "  UserWarning,\n"
     ]
    },
    {
     "data": {
      "text/plain": [
       "RandomizedSearchCV(cv=5, estimator=RandomForestClassifier(), n_iter=5,\n",
       "                   param_distributions={'max_depth': <scipy.stats._distn_infrastructure.rv_frozen object at 0x7fe18844f450>,\n",
       "                                        'n_estimators': <scipy.stats._distn_infrastructure.rv_frozen object at 0x7fe19eb08090>})"
      ]
     },
     "execution_count": 25,
     "metadata": {},
     "output_type": "execute_result"
    }
   ],
   "source": [
    "\n",
    "param_dist = {'n_estimators': randint(50,500),\n",
    "              'max_depth': randint(1,20)}\n",
    "\n",
    "# Create a random forest classifier\n",
    "rf = RandomForestClassifier()\n",
    "\n",
    "rand_search = RandomizedSearchCV(rf, \n",
    "                                 param_distributions = param_dist, \n",
    "                                 n_iter=5, \n",
    "                                 cv=5)\n",
    "\n",
    "# Fit the random search object to the data\n",
    "rand_search.fit(X_train, y_train)"
   ]
  },
  {
   "cell_type": "code",
   "execution_count": 28,
   "id": "6334e468",
   "metadata": {},
   "outputs": [
    {
     "name": "stdout",
     "output_type": "stream",
     "text": [
      "Accuracy: 0.6241237113402062\n"
     ]
    }
   ],
   "source": [
    "y_pred_rand = rand_search.predict(X_test)\n",
    "# Model Accuracy\n",
    "print(\"Accuracy:\",metrics.accuracy_score(y_test, y_pred_rand))"
   ]
  },
  {
   "cell_type": "markdown",
   "id": "d294403b",
   "metadata": {},
   "source": [
    "### Understand the prediction with confusion matrix"
   ]
  },
  {
   "cell_type": "code",
   "execution_count": 32,
   "id": "a29a13a6",
   "metadata": {},
   "outputs": [],
   "source": [
    "confusion_matrix = metrics.confusion_matrix(y_test, y_pred_rand)"
   ]
  },
  {
   "cell_type": "code",
   "execution_count": 39,
   "id": "f26218f5",
   "metadata": {},
   "outputs": [],
   "source": [
    "cm_display = metrics.ConfusionMatrixDisplay(confusion_matrix = confusion_matrix, display_labels = [0, 1, 2, 3, 4, 5, 6])"
   ]
  },
  {
   "cell_type": "code",
   "execution_count": 40,
   "id": "c4e2457a",
   "metadata": {},
   "outputs": [
    {
     "data": {
      "image/png": "[encoded data removed]",
      "text/plain": [
       "<Figure size 640x480 with 2 Axes>"
      ]
     },
     "metadata": {},
     "output_type": "display_data"
    }
   ],
   "source": [
    "cm_display.plot()\n",
    "plt.show()"
   ]
  },
  {
   "cell_type": "code",
   "execution_count": null,
   "id": "1a64be9a",
   "metadata": {},
   "outputs": [],
   "source": []
  },
  {
   "cell_type": "code",
   "execution_count": null,
   "id": "3c785f40",
   "metadata": {},
   "outputs": [],
   "source": []
  },
  {
   "cell_type": "code",
   "execution_count": null,
   "id": "06756e53",
   "metadata": {},
   "outputs": [],
   "source": []
  },
  {
   "cell_type": "code",
   "execution_count": null,
   "id": "d8bac8d4",
   "metadata": {},
   "outputs": [],
   "source": []
  },
  {
   "cell_type": "code",
   "execution_count": null,
   "id": "783e8216",
   "metadata": {},
   "outputs": [],
   "source": []
  },
  {
   "cell_type": "code",
   "execution_count": null,
   "id": "4a57e2f7",
   "metadata": {},
   "outputs": [],
   "source": []
  }
 ],
 "metadata": {
  "kernelspec": {
   "display_name": "Python [conda env:py37]",
   "language": "python",
   "name": "conda-env-py37-py"
  },
  "language_info": {
   "codemirror_mode": {
    "name": "ipython",
    "version": 3
   },
   "file_extension": ".py",
   "mimetype": "text/x-python",
   "name": "python",
   "nbconvert_exporter": "python",
   "pygments_lexer": "ipython3",
   "version": "3.7.11"
  }
 },
 "nbformat": 4,
 "nbformat_minor": 5
}
